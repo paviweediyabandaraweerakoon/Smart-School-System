{
 "cells": [
  {
   "cell_type": "markdown",
   "id": "8367ba14",
   "metadata": {},
   "source": [
    "import libraries"
   ]
  },
  {
   "cell_type": "code",
   "execution_count": 1,
   "id": "7add94f3",
   "metadata": {},
   "outputs": [],
   "source": [
    "import pandas as pd"
   ]
  },
  {
   "cell_type": "markdown",
   "id": "cac8f29a",
   "metadata": {},
   "source": [
    "Load data"
   ]
  },
  {
   "cell_type": "code",
   "execution_count": 2,
   "id": "750f60e9",
   "metadata": {},
   "outputs": [],
   "source": [
    "df = pd.read_csv('./data/sample_students.csv')\n"
   ]
  },
  {
   "cell_type": "markdown",
   "id": "05591a90",
   "metadata": {},
   "source": [
    "before cleaning data"
   ]
  },
  {
   "cell_type": "code",
   "execution_count": 3,
   "id": "4829fdc7",
   "metadata": {},
   "outputs": [
    {
     "name": "stdout",
     "output_type": "stream",
     "text": [
      "school_id                0\n",
      "term                     2\n",
      "attendance_rate          3\n",
      "staff_performance        3\n",
      "parent_feedback          1\n",
      "budget_per_student       3\n",
      "extracurricular_count    1\n",
      "class_size               2\n",
      "internal_assessment      3\n",
      "exam_score               3\n",
      "performance_band         3\n",
      "dtype: int64\n"
     ]
    }
   ],
   "source": [
    "print(df.isnull().sum())"
   ]
  },
  {
   "cell_type": "markdown",
   "id": "a719d9fd",
   "metadata": {},
   "source": [
    "Data Cleaning"
   ]
  },
  {
   "cell_type": "code",
   "execution_count": 4,
   "id": "b95de2d7",
   "metadata": {},
   "outputs": [],
   "source": [
    "# Numeric columns - fill missing values without inplace\n",
    "df[\"attendance_rate\"] = df[\"attendance_rate\"].fillna(df[\"attendance_rate\"].median())\n",
    "df[\"staff_performance\"] = df[\"staff_performance\"].fillna(df[\"staff_performance\"].median())\n",
    "df[\"parent_feedback\"] = df[\"parent_feedback\"].fillna(df[\"parent_feedback\"].median())\n",
    "df[\"budget_per_student\"] = df[\"budget_per_student\"].fillna(df[\"budget_per_student\"].median())\n",
    "df[\"extracurricular_count\"] = df[\"extracurricular_count\"].fillna(df[\"extracurricular_count\"].median())\n",
    "df[\"class_size\"] = df[\"class_size\"].fillna(df[\"class_size\"].median())\n",
    "df[\"internal_assessment\"] = df[\"internal_assessment\"].fillna(df[\"internal_assessment\"].median())\n",
    "df[\"exam_score\"] = df[\"exam_score\"].fillna(df[\"exam_score\"].median())\n",
    "\n",
    "# Categorical columns\n",
    "df[\"term\"] = df[\"term\"].fillna(df[\"term\"].mode()[0])\n",
    "df[\"performance_band\"] = df[\"performance_band\"].fillna(df[\"performance_band\"].mode()[0])\n",
    "df[\"school_id\"] = df[\"school_id\"].fillna(\"UNKNOWN\")\n",
    "\n",
    "\n",
    "\n",
    "df[\"term\"] = pd.Categorical(df[\"term\"], categories=[\"Term 1\", \"Term 2\", \"Term 3\"], ordered=True)\n",
    "\n",
    "\n",
    "group_band = df.groupby(\"performance_band\").agg({\n",
    "    \"attendance_rate\": \"mean\",\n",
    "    \"staff_performance\": \"mean\",\n",
    "    \"parent_feedback\": \"mean\",\n",
    "    \"budget_per_student\": \"mean\",\n",
    "    \"extracurricular_count\": \"mean\",\n",
    "    \"class_size\": \"mean\",\n",
    "    \"internal_assessment\": \"mean\",\n",
    "    \"exam_score\": \"mean\"\n",
    "})\n",
    "\n",
    "\n",
    "group_term = df.groupby(\"term\", observed=True).agg({\n",
    "    \"attendance_rate\": \"mean\",\n",
    "    \"staff_performance\": \"mean\",\n",
    "    \"parent_feedback\": \"mean\",\n",
    "    \"budget_per_student\": \"mean\",\n",
    "    \"extracurricular_count\": \"mean\",\n",
    "    \"class_size\": \"mean\",\n",
    "    \"internal_assessment\": \"mean\",\n",
    "    \"exam_score\": \"mean\"\n",
    "})\n",
    "\n"
   ]
  },
  {
   "cell_type": "markdown",
   "id": "76aa3847",
   "metadata": {},
   "source": [
    "after cleaning data"
   ]
  },
  {
   "cell_type": "code",
   "execution_count": 5,
   "id": "7786febb",
   "metadata": {},
   "outputs": [
    {
     "name": "stdout",
     "output_type": "stream",
     "text": [
      "school_id                0\n",
      "term                     0\n",
      "attendance_rate          0\n",
      "staff_performance        0\n",
      "parent_feedback          0\n",
      "budget_per_student       0\n",
      "extracurricular_count    0\n",
      "class_size               0\n",
      "internal_assessment      0\n",
      "exam_score               0\n",
      "performance_band         0\n",
      "dtype: int64\n"
     ]
    }
   ],
   "source": [
    "print(df.isnull().sum())"
   ]
  },
  {
   "cell_type": "markdown",
   "id": "35a0eeb2",
   "metadata": {},
   "source": [
    "saved data "
   ]
  },
  {
   "cell_type": "code",
   "execution_count": 6,
   "id": "d26b0f75",
   "metadata": {},
   "outputs": [],
   "source": [
    "df.to_csv(\"./data/cleaned_school_data.csv\", index=False)"
   ]
  }
 ],
 "metadata": {
  "kernelspec": {
   "display_name": "base",
   "language": "python",
   "name": "python3"
  },
  "language_info": {
   "codemirror_mode": {
    "name": "ipython",
    "version": 3
   },
   "file_extension": ".py",
   "mimetype": "text/x-python",
   "name": "python",
   "nbconvert_exporter": "python",
   "pygments_lexer": "ipython3",
   "version": "3.12.7"
  }
 },
 "nbformat": 4,
 "nbformat_minor": 5
}
