{
 "cells": [
  {
   "cell_type": "markdown",
   "id": "281bf2f4",
   "metadata": {},
   "source": []
  },
  {
   "cell_type": "code",
   "execution_count": 15,
   "id": "f90e0cfd",
   "metadata": {},
   "outputs": [],
   "source": [
    "import pandas as pd"
   ]
  },
  {
   "cell_type": "markdown",
   "id": "4c64e0b9",
   "metadata": {},
   "source": [
    "Load cleaned dataset"
   ]
  },
  {
   "cell_type": "code",
   "execution_count": 16,
   "id": "38aa8d1a",
   "metadata": {},
   "outputs": [],
   "source": [
    "df = pd.read_csv(\"./data/cleaned_school_data.csv\")"
   ]
  },
  {
   "cell_type": "markdown",
   "id": "508837b1",
   "metadata": {},
   "source": [
    "Remove Outliers"
   ]
  },
  {
   "cell_type": "code",
   "execution_count": 17,
   "id": "31c4a904",
   "metadata": {},
   "outputs": [],
   "source": [
    "\n",
    "Q1 = df[\"attendance_rate\"].quantile(0.25)\n",
    "Q3 = df[\"attendance_rate\"].quantile(0.75)\n",
    "IQR = Q3 - Q1\n",
    "lower = Q1 - 1.5 * IQR\n",
    "upper = Q3 + 1.5 * IQR\n",
    "df = df[(df[\"attendance_rate\"] >= lower) & (df[\"attendance_rate\"] <= upper)]\n",
    "\n",
    "Q1 = df[\"staff_performance\"].quantile(0.25)\n",
    "Q3 = df[\"staff_performance\"].quantile(0.75)\n",
    "IQR = Q3 - Q1\n",
    "lower = Q1 - 1.5 * IQR\n",
    "upper = Q3 + 1.5 * IQR\n",
    "df = df[(df[\"staff_performance\"] >= lower) & (df[\"staff_performance\"] <= upper)]\n",
    "\n",
    "Q1 = df[\"parent_feedback\"].quantile(0.25)\n",
    "Q3 = df[\"parent_feedback\"].quantile(0.75)\n",
    "IQR = Q3 - Q1\n",
    "lower = Q1 - 1.5 * IQR\n",
    "upper = Q3 + 1.5 * IQR\n",
    "df = df[(df[\"parent_feedback\"] >= lower) & (df[\"parent_feedback\"] <= upper)]\n",
    "\n",
    "Q1 = df[\"budget_per_student\"].quantile(0.25)\n",
    "Q3 = df[\"budget_per_student\"].quantile(0.75)\n",
    "IQR = Q3 - Q1\n",
    "lower = Q1 - 1.5 * IQR\n",
    "upper = Q3 + 1.5 * IQR\n",
    "df = df[(df[\"budget_per_student\"] >= lower) & (df[\"budget_per_student\"] <= upper)]\n"
   ]
  },
  {
   "cell_type": "code",
   "execution_count": 18,
   "id": "0cfc1b41",
   "metadata": {},
   "outputs": [],
   "source": [
    "\n",
    "Q1 = df[\"extracurricular_count\"].quantile(0.25)\n",
    "Q3 = df[\"extracurricular_count\"].quantile(0.75)\n",
    "IQR = Q3 - Q1\n",
    "lower = Q1 - 1.5 * IQR\n",
    "upper = Q3 + 1.5 * IQR\n",
    "df = df[(df[\"extracurricular_count\"] >= lower) & (df[\"extracurricular_count\"] <= upper)]\n",
    "\n",
    "Q1 = df[\"class_size\"].quantile(0.25)\n",
    "Q3 = df[\"class_size\"].quantile(0.75)\n",
    "IQR = Q3 - Q1\n",
    "lower = Q1 - 1.5 * IQR\n",
    "upper = Q3 + 1.5 * IQR\n",
    "df = df[(df[\"class_size\"] >= lower) & (df[\"class_size\"] <= upper)]\n",
    "\n",
    "Q1 = df[\"internal_assessment\"].quantile(0.25)\n",
    "Q3 = df[\"internal_assessment\"].quantile(0.75)\n",
    "IQR = Q3 - Q1\n",
    "lower = Q1 - 1.5 * IQR\n",
    "upper = Q3 + 1.5 * IQR\n",
    "df = df[(df[\"internal_assessment\"] >= lower) & (df[\"internal_assessment\"] <= upper)]\n",
    "\n",
    "Q1 = df[\"exam_score\"].quantile(0.25)\n",
    "Q3 = df[\"exam_score\"].quantile(0.75)\n",
    "IQR = Q3 - Q1\n",
    "lower = Q1 - 1.5 * IQR\n",
    "upper = Q3 + 1.5 * IQR\n",
    "df = df[(df[\"exam_score\"] >= lower) & (df[\"exam_score\"] <= upper)]\n"
   ]
  },
  {
   "cell_type": "markdown",
   "id": "3868f344",
   "metadata": {},
   "source": [
    "save data "
   ]
  },
  {
   "cell_type": "code",
   "execution_count": 19,
   "id": "64207a71",
   "metadata": {},
   "outputs": [],
   "source": [
    "df.to_csv(\"./data/ready_school_data.csv\", index=False)\n"
   ]
  }
 ],
 "metadata": {
  "kernelspec": {
   "display_name": "base",
   "language": "python",
   "name": "python3"
  },
  "language_info": {
   "codemirror_mode": {
    "name": "ipython",
    "version": 3
   },
   "file_extension": ".py",
   "mimetype": "text/x-python",
   "name": "python",
   "nbconvert_exporter": "python",
   "pygments_lexer": "ipython3",
   "version": "3.12.7"
  }
 },
 "nbformat": 4,
 "nbformat_minor": 5
}
